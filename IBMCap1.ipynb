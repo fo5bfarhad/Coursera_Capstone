{
 "cells": [
  {
   "cell_type": "markdown",
   "metadata": {},
   "source": [
    "<h1 align=center><font size = 5>Clustering and Comparing the Neighborhoods of Fairfax County in Virginia</font></h1>\n"
   ]
  },
  {
   "cell_type": "markdown",
   "metadata": {},
   "source": [
    "## 1.1. Introduction\n",
    "\n",
    "Fairfax County is a suburb of Washington D.C. in northern Virginia. It is the most populous county in the state and has some of the most expensive housing markets in the DC-Maryland-Virginia (DMV) metropolitan region. Despite the global impact of the coronavirus pandemic, the real estate market in Fairfax County remains strong and competitive.  A relatively strong economy mainly drives this competitiveness in the DMV area. Other factors that influence the real estate market are lack of inventory, low mortgage rates, and trim down payment options. However, the real estate market boom may not be uniform across different neighborhoods in the county; therefore, there is an opportunity to use data analysis to compare various localities and generate insights for potential investments. \n",
    "\n",
    "## 1.2. Business Problem\n",
    "\n",
    "Insights and data often assist successful investments. This project will utilize a machine learning technique to derive these insights and provide a mechanism for potential homebuyers or investors to make an informed decision. In particular, the business problem that we are trying to answer is: What neighborhood offers the best opportunity for purchasing a home or an investment property in Fairfax County? \n",
    "To solve this problem, we will cluster various neighborhoods of Fairfax County, using local venues and amenities like coffee shops, parks, etc., and a smoothed and seasonally adjusted value of typical homes across the region. We will then compare these clusters' results with the forecasted increase in home prices in each neighborhood to derive valuable insight for purchasing a home or an investment property. \n",
    "\n",
    "\n",
    "## 2. Data Acquisition\n",
    "## 2.1. Data "
   ]
  },
  {
   "cell_type": "code",
   "execution_count": null,
   "metadata": {},
   "outputs": [],
   "source": []
  }
 ],
 "metadata": {
  "kernelspec": {
   "display_name": "Python 3",
   "language": "python",
   "name": "python3"
  },
  "language_info": {
   "codemirror_mode": {
    "name": "ipython",
    "version": 3
   },
   "file_extension": ".py",
   "mimetype": "text/x-python",
   "name": "python",
   "nbconvert_exporter": "python",
   "pygments_lexer": "ipython3",
   "version": "3.9.0"
  }
 },
 "nbformat": 4,
 "nbformat_minor": 4
}
